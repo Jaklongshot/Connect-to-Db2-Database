{
 "cells": [
  {
   "cell_type": "code",
   "execution_count": 55,
   "metadata": {},
   "outputs": [],
   "source": [
    "import numpy as np\n",
    "import pandas as pd\n",
    "from pandas_datareader import data as wb\n",
    "import matplotlib.pyplot as plt\n",
    "%matplotlib inline"
   ]
  },
  {
   "cell_type": "code",
   "execution_count": 56,
   "metadata": {},
   "outputs": [
    {
     "data": {
      "text/plain": [
       "'C:\\\\Users\\\\jaklo'"
      ]
     },
     "execution_count": 56,
     "metadata": {},
     "output_type": "execute_result"
    }
   ],
   "source": [
    "pwd"
   ]
  },
  {
   "cell_type": "code",
   "execution_count": 57,
   "metadata": {},
   "outputs": [],
   "source": [
    "assets = ['WMT', 'FB', 'BP']\n",
    "pf_data = pd.DataFrame()\n",
    "\n",
    "for a in assets:\n",
    "    pf_data[a]=wb.DataReader(a, data_source='yahoo', start='2013-12-31')['Adj Close']\n",
    "    "
   ]
  },
  {
   "cell_type": "code",
   "execution_count": 58,
   "metadata": {},
   "outputs": [
    {
     "data": {
      "text/html": [
       "<div>\n",
       "<style scoped>\n",
       "    .dataframe tbody tr th:only-of-type {\n",
       "        vertical-align: middle;\n",
       "    }\n",
       "\n",
       "    .dataframe tbody tr th {\n",
       "        vertical-align: top;\n",
       "    }\n",
       "\n",
       "    .dataframe thead th {\n",
       "        text-align: right;\n",
       "    }\n",
       "</style>\n",
       "<table border=\"1\" class=\"dataframe\">\n",
       "  <thead>\n",
       "    <tr style=\"text-align: right;\">\n",
       "      <th></th>\n",
       "      <th>WMT</th>\n",
       "      <th>FB</th>\n",
       "      <th>BP</th>\n",
       "    </tr>\n",
       "    <tr>\n",
       "      <th>Date</th>\n",
       "      <th></th>\n",
       "      <th></th>\n",
       "      <th></th>\n",
       "    </tr>\n",
       "  </thead>\n",
       "  <tbody>\n",
       "    <tr>\n",
       "      <th>2013-12-31</th>\n",
       "      <td>68.045013</td>\n",
       "      <td>54.650002</td>\n",
       "      <td>33.575596</td>\n",
       "    </tr>\n",
       "    <tr>\n",
       "      <th>2014-01-02</th>\n",
       "      <td>68.235268</td>\n",
       "      <td>54.709999</td>\n",
       "      <td>33.140453</td>\n",
       "    </tr>\n",
       "    <tr>\n",
       "      <th>2014-01-03</th>\n",
       "      <td>68.010452</td>\n",
       "      <td>54.560001</td>\n",
       "      <td>33.064468</td>\n",
       "    </tr>\n",
       "    <tr>\n",
       "      <th>2014-01-06</th>\n",
       "      <td>67.629967</td>\n",
       "      <td>57.200001</td>\n",
       "      <td>33.154270</td>\n",
       "    </tr>\n",
       "    <tr>\n",
       "      <th>2014-01-07</th>\n",
       "      <td>67.837509</td>\n",
       "      <td>57.919998</td>\n",
       "      <td>33.534153</td>\n",
       "    </tr>\n",
       "  </tbody>\n",
       "</table>\n",
       "</div>"
      ],
      "text/plain": [
       "                  WMT         FB         BP\n",
       "Date                                       \n",
       "2013-12-31  68.045013  54.650002  33.575596\n",
       "2014-01-02  68.235268  54.709999  33.140453\n",
       "2014-01-03  68.010452  54.560001  33.064468\n",
       "2014-01-06  67.629967  57.200001  33.154270\n",
       "2014-01-07  67.837509  57.919998  33.534153"
      ]
     },
     "execution_count": 58,
     "metadata": {},
     "output_type": "execute_result"
    }
   ],
   "source": [
    "pf_data.head(5)"
   ]
  },
  {
   "cell_type": "code",
   "execution_count": 59,
   "metadata": {},
   "outputs": [
    {
     "data": {
      "text/html": [
       "<div>\n",
       "<style scoped>\n",
       "    .dataframe tbody tr th:only-of-type {\n",
       "        vertical-align: middle;\n",
       "    }\n",
       "\n",
       "    .dataframe tbody tr th {\n",
       "        vertical-align: top;\n",
       "    }\n",
       "\n",
       "    .dataframe thead th {\n",
       "        text-align: right;\n",
       "    }\n",
       "</style>\n",
       "<table border=\"1\" class=\"dataframe\">\n",
       "  <thead>\n",
       "    <tr style=\"text-align: right;\">\n",
       "      <th></th>\n",
       "      <th>WMT</th>\n",
       "      <th>FB</th>\n",
       "      <th>BP</th>\n",
       "    </tr>\n",
       "    <tr>\n",
       "      <th>Date</th>\n",
       "      <th></th>\n",
       "      <th></th>\n",
       "      <th></th>\n",
       "    </tr>\n",
       "  </thead>\n",
       "  <tbody>\n",
       "    <tr>\n",
       "      <th>2019-11-15</th>\n",
       "      <td>118.870003</td>\n",
       "      <td>195.100006</td>\n",
       "      <td>39.209999</td>\n",
       "    </tr>\n",
       "    <tr>\n",
       "      <th>2019-11-18</th>\n",
       "      <td>120.250000</td>\n",
       "      <td>197.399994</td>\n",
       "      <td>39.060001</td>\n",
       "    </tr>\n",
       "    <tr>\n",
       "      <th>2019-11-19</th>\n",
       "      <td>119.889999</td>\n",
       "      <td>199.320007</td>\n",
       "      <td>38.650002</td>\n",
       "    </tr>\n",
       "    <tr>\n",
       "      <th>2019-11-20</th>\n",
       "      <td>119.129997</td>\n",
       "      <td>197.509995</td>\n",
       "      <td>38.509998</td>\n",
       "    </tr>\n",
       "    <tr>\n",
       "      <th>2019-11-21</th>\n",
       "      <td>119.860001</td>\n",
       "      <td>197.929993</td>\n",
       "      <td>38.590000</td>\n",
       "    </tr>\n",
       "  </tbody>\n",
       "</table>\n",
       "</div>"
      ],
      "text/plain": [
       "                   WMT          FB         BP\n",
       "Date                                         \n",
       "2019-11-15  118.870003  195.100006  39.209999\n",
       "2019-11-18  120.250000  197.399994  39.060001\n",
       "2019-11-19  119.889999  199.320007  38.650002\n",
       "2019-11-20  119.129997  197.509995  38.509998\n",
       "2019-11-21  119.860001  197.929993  38.590000"
      ]
     },
     "execution_count": 59,
     "metadata": {},
     "output_type": "execute_result"
    }
   ],
   "source": [
    "pf_data.tail(5)"
   ]
  },
  {
   "cell_type": "code",
   "execution_count": 60,
   "metadata": {},
   "outputs": [
    {
     "data": {
      "image/png": "[encoded data removed]",
      "text/plain": [
       "<Figure size 1080x432 with 1 Axes>"
      ]
     },
     "metadata": {
      "needs_background": "light"
     },
     "output_type": "display_data"
    }
   ],
   "source": [
    "#normalize to 100\n",
    "(pf_data/pf_data.iloc[0]*100).plot(figsize=(15,6));"
   ]
  },
  {
   "cell_type": "code",
   "execution_count": 61,
   "metadata": {},
   "outputs": [
    {
     "data": {
      "text/html": [
       "<div>\n",
       "<style scoped>\n",
       "    .dataframe tbody tr th:only-of-type {\n",
       "        vertical-align: middle;\n",
       "    }\n",
       "\n",
       "    .dataframe tbody tr th {\n",
       "        vertical-align: top;\n",
       "    }\n",
       "\n",
       "    .dataframe thead th {\n",
       "        text-align: right;\n",
       "    }\n",
       "</style>\n",
       "<table border=\"1\" class=\"dataframe\">\n",
       "  <thead>\n",
       "    <tr style=\"text-align: right;\">\n",
       "      <th></th>\n",
       "      <th>WMT</th>\n",
       "      <th>FB</th>\n",
       "      <th>BP</th>\n",
       "    </tr>\n",
       "    <tr>\n",
       "      <th>Date</th>\n",
       "      <th></th>\n",
       "      <th></th>\n",
       "      <th></th>\n",
       "    </tr>\n",
       "  </thead>\n",
       "  <tbody>\n",
       "    <tr>\n",
       "      <th>2019-11-15</th>\n",
       "      <td>-0.014863</td>\n",
       "      <td>0.010045</td>\n",
       "      <td>0.005883</td>\n",
       "    </tr>\n",
       "    <tr>\n",
       "      <th>2019-11-18</th>\n",
       "      <td>0.011542</td>\n",
       "      <td>0.011720</td>\n",
       "      <td>-0.003833</td>\n",
       "    </tr>\n",
       "    <tr>\n",
       "      <th>2019-11-19</th>\n",
       "      <td>-0.002998</td>\n",
       "      <td>0.009680</td>\n",
       "      <td>-0.010552</td>\n",
       "    </tr>\n",
       "    <tr>\n",
       "      <th>2019-11-20</th>\n",
       "      <td>-0.006359</td>\n",
       "      <td>-0.009122</td>\n",
       "      <td>-0.003629</td>\n",
       "    </tr>\n",
       "    <tr>\n",
       "      <th>2019-11-21</th>\n",
       "      <td>0.006109</td>\n",
       "      <td>0.002124</td>\n",
       "      <td>0.002075</td>\n",
       "    </tr>\n",
       "  </tbody>\n",
       "</table>\n",
       "</div>"
      ],
      "text/plain": [
       "                 WMT        FB        BP\n",
       "Date                                    \n",
       "2019-11-15 -0.014863  0.010045  0.005883\n",
       "2019-11-18  0.011542  0.011720 -0.003833\n",
       "2019-11-19 -0.002998  0.009680 -0.010552\n",
       "2019-11-20 -0.006359 -0.009122 -0.003629\n",
       "2019-11-21  0.006109  0.002124  0.002075"
      ]
     },
     "execution_count": 61,
     "metadata": {},
     "output_type": "execute_result"
    }
   ],
   "source": [
    "#Get log returns\n",
    "log_returns = np.log(pf_data/pf_data.shift(1))\n",
    "log_returns.tail(5)"
   ]
  },
  {
   "cell_type": "code",
   "execution_count": 62,
   "metadata": {},
   "outputs": [
    {
     "data": {
      "text/plain": [
       "WMT    0.095377\n",
       "FB     0.216807\n",
       "BP     0.023449\n",
       "dtype: float64"
      ]
     },
     "execution_count": 62,
     "metadata": {},
     "output_type": "execute_result"
    }
   ],
   "source": [
    "#Get log returns annual\n",
    "log_returns.mean()*250"
   ]
  },
  {
   "cell_type": "code",
   "execution_count": 63,
   "metadata": {},
   "outputs": [
    {
     "data": {
      "text/html": [
       "<div>\n",
       "<style scoped>\n",
       "    .dataframe tbody tr th:only-of-type {\n",
       "        vertical-align: middle;\n",
       "    }\n",
       "\n",
       "    .dataframe tbody tr th {\n",
       "        vertical-align: top;\n",
       "    }\n",
       "\n",
       "    .dataframe thead th {\n",
       "        text-align: right;\n",
       "    }\n",
       "</style>\n",
       "<table border=\"1\" class=\"dataframe\">\n",
       "  <thead>\n",
       "    <tr style=\"text-align: right;\">\n",
       "      <th></th>\n",
       "      <th>WMT</th>\n",
       "      <th>FB</th>\n",
       "      <th>BP</th>\n",
       "    </tr>\n",
       "  </thead>\n",
       "  <tbody>\n",
       "    <tr>\n",
       "      <th>WMT</th>\n",
       "      <td>0.035043</td>\n",
       "      <td>0.008742</td>\n",
       "      <td>0.007021</td>\n",
       "    </tr>\n",
       "    <tr>\n",
       "      <th>FB</th>\n",
       "      <td>0.008742</td>\n",
       "      <td>0.088220</td>\n",
       "      <td>0.016386</td>\n",
       "    </tr>\n",
       "    <tr>\n",
       "      <th>BP</th>\n",
       "      <td>0.007021</td>\n",
       "      <td>0.016386</td>\n",
       "      <td>0.051297</td>\n",
       "    </tr>\n",
       "  </tbody>\n",
       "</table>\n",
       "</div>"
      ],
      "text/plain": [
       "          WMT        FB        BP\n",
       "WMT  0.035043  0.008742  0.007021\n",
       "FB   0.008742  0.088220  0.016386\n",
       "BP   0.007021  0.016386  0.051297"
      ]
     },
     "execution_count": 63,
     "metadata": {},
     "output_type": "execute_result"
    }
   ],
   "source": [
    "#Get log returns covariance\n",
    "log_returns.cov()*250"
   ]
  },
  {
   "cell_type": "code",
   "execution_count": 64,
   "metadata": {},
   "outputs": [
    {
     "data": {
      "text/html": [
       "<div>\n",
       "<style scoped>\n",
       "    .dataframe tbody tr th:only-of-type {\n",
       "        vertical-align: middle;\n",
       "    }\n",
       "\n",
       "    .dataframe tbody tr th {\n",
       "        vertical-align: top;\n",
       "    }\n",
       "\n",
       "    .dataframe thead th {\n",
       "        text-align: right;\n",
       "    }\n",
       "</style>\n",
       "<table border=\"1\" class=\"dataframe\">\n",
       "  <thead>\n",
       "    <tr style=\"text-align: right;\">\n",
       "      <th></th>\n",
       "      <th>WMT</th>\n",
       "      <th>FB</th>\n",
       "      <th>BP</th>\n",
       "    </tr>\n",
       "  </thead>\n",
       "  <tbody>\n",
       "    <tr>\n",
       "      <th>WMT</th>\n",
       "      <td>1.000000</td>\n",
       "      <td>0.157226</td>\n",
       "      <td>0.165599</td>\n",
       "    </tr>\n",
       "    <tr>\n",
       "      <th>FB</th>\n",
       "      <td>0.157226</td>\n",
       "      <td>1.000000</td>\n",
       "      <td>0.243585</td>\n",
       "    </tr>\n",
       "    <tr>\n",
       "      <th>BP</th>\n",
       "      <td>0.165599</td>\n",
       "      <td>0.243585</td>\n",
       "      <td>1.000000</td>\n",
       "    </tr>\n",
       "  </tbody>\n",
       "</table>\n",
       "</div>"
      ],
      "text/plain": [
       "          WMT        FB        BP\n",
       "WMT  1.000000  0.157226  0.165599\n",
       "FB   0.157226  1.000000  0.243585\n",
       "BP   0.165599  0.243585  1.000000"
      ]
     },
     "execution_count": 64,
     "metadata": {},
     "output_type": "execute_result"
    }
   ],
   "source": [
    "#Get log returns correlation\n",
    "log_returns.corr()"
   ]
  },
  {
   "cell_type": "markdown",
   "metadata": {},
   "source": [
    "## Expected Portfolio Variance:"
   ]
  },
  {
   "cell_type": "code",
   "execution_count": 65,
   "metadata": {},
   "outputs": [
    {
     "data": {
      "text/plain": [
       "3"
      ]
     },
     "execution_count": 65,
     "metadata": {},
     "output_type": "execute_result"
    }
   ],
   "source": [
    "num_assets = len(assets)\n",
    "num_assets"
   ]
  },
  {
   "cell_type": "code",
   "execution_count": 66,
   "metadata": {},
   "outputs": [],
   "source": [
    "weights = np.random.random(num_assets)"
   ]
  },
  {
   "cell_type": "code",
   "execution_count": 67,
   "metadata": {},
   "outputs": [],
   "source": [
    "weights /= np.sum(weights)"
   ]
  },
  {
   "cell_type": "code",
   "execution_count": 68,
   "metadata": {},
   "outputs": [
    {
     "data": {
      "text/plain": [
       "1.0"
      ]
     },
     "execution_count": 68,
     "metadata": {},
     "output_type": "execute_result"
    }
   ],
   "source": [
    "weights[0]+weights[1]+weights[2]"
   ]
  },
  {
   "cell_type": "code",
   "execution_count": 69,
   "metadata": {},
   "outputs": [
    {
     "data": {
      "text/plain": [
       "0.03104327945413782"
      ]
     },
     "execution_count": 69,
     "metadata": {},
     "output_type": "execute_result"
    }
   ],
   "source": [
    "Exp_var = np.dot(weights.T, np.dot(log_returns.cov()*250, weights))\n",
    "Exp_var"
   ]
  },
  {
   "cell_type": "markdown",
   "metadata": {},
   "source": [
    "## Expected Portfolio Return:"
   ]
  },
  {
   "cell_type": "code",
   "execution_count": 70,
   "metadata": {},
   "outputs": [
    {
     "data": {
      "text/plain": [
       "0.05654482210821681"
      ]
     },
     "execution_count": 70,
     "metadata": {},
     "output_type": "execute_result"
    }
   ],
   "source": [
    "Exp_return = np.sum(weights*log_returns.mean())*250\n",
    "Exp_return"
   ]
  },
  {
   "cell_type": "markdown",
   "metadata": {},
   "source": [
    "## Expected Portfolio Volatility:\n"
   ]
  },
  {
   "cell_type": "code",
   "execution_count": 71,
   "metadata": {},
   "outputs": [
    {
     "data": {
      "text/plain": [
       "0.17619103113989038"
      ]
     },
     "execution_count": 71,
     "metadata": {},
     "output_type": "execute_result"
    }
   ],
   "source": [
    "Exp_vol = np.sqrt(Exp_var)\n",
    "Exp_vol"
   ]
  },
  {
   "cell_type": "code",
   "execution_count": 76,
   "metadata": {},
   "outputs": [
    {
     "data": {
      "text/plain": [
       "(array([0.076687  , 0.07996406, 0.1224658 , 0.09292308, 0.11660281,\n",
       "        0.13880567, 0.15677084, 0.13121009, 0.13470015, 0.06949611,\n",
       "        0.11655473, 0.12220959, 0.09377956, 0.0836392 , 0.0918008 ,\n",
       "        0.10187078, 0.0859391 , 0.0925824 , 0.10986933, 0.07806992,\n",
       "        0.09829843, 0.12960994, 0.09641934, 0.13400504, 0.1207255 ,\n",
       "        0.11607596, 0.12326977, 0.16063137, 0.06680595, 0.09943717,\n",
       "        0.10544236, 0.07470467, 0.09629471, 0.09251815, 0.13962652,\n",
       "        0.11388426, 0.12940547, 0.13224063, 0.07752639, 0.1325902 ,\n",
       "        0.13780281, 0.18312453, 0.1120885 , 0.13964525, 0.12605314,\n",
       "        0.0954769 , 0.08069087, 0.10476159, 0.13276543, 0.14984855,\n",
       "        0.10854792, 0.11959695, 0.07372727, 0.12134407, 0.13702881,\n",
       "        0.13633322, 0.11923567, 0.08890304, 0.1743128 , 0.1107196 ,\n",
       "        0.09316637, 0.1070285 , 0.12841466, 0.1054283 , 0.09426846,\n",
       "        0.07511875, 0.137627  , 0.1366955 , 0.11356001, 0.0778038 ,\n",
       "        0.14892738, 0.09487436, 0.11131169, 0.14228055, 0.09080092,\n",
       "        0.11817424, 0.11542056, 0.10232081, 0.09176507, 0.12428708,\n",
       "        0.09856898, 0.10582392, 0.09899804, 0.10293179, 0.11613349,\n",
       "        0.12227367, 0.09473158, 0.16045167, 0.07867512, 0.161731  ,\n",
       "        0.14017316, 0.11769098, 0.20307951, 0.1097595 , 0.12310988,\n",
       "        0.12067665, 0.1153854 , 0.08369092, 0.1271145 , 0.07566847,\n",
       "        0.13855603, 0.12035416, 0.12794452, 0.06463513, 0.11953051,\n",
       "        0.13404189, 0.10871373, 0.13544776, 0.12852919, 0.11434639,\n",
       "        0.12890991, 0.10733046, 0.11797956, 0.13372168, 0.1060736 ,\n",
       "        0.10743526, 0.12377612, 0.13469101, 0.12907875, 0.12924615,\n",
       "        0.11858603, 0.16660226, 0.10962325, 0.17343259, 0.09181097,\n",
       "        0.13557594, 0.09814625, 0.11687867, 0.14625434, 0.15756008,\n",
       "        0.07485826, 0.12349105, 0.1565304 , 0.06484789, 0.06873025,\n",
       "        0.09832514, 0.11326061, 0.14877635, 0.06636118, 0.13240418,\n",
       "        0.08182336, 0.09641555, 0.1567076 , 0.12716875, 0.12823098,\n",
       "        0.10038295, 0.10458137, 0.11917398, 0.13587452, 0.10906204,\n",
       "        0.16896183, 0.0586105 , 0.06898191, 0.08131349, 0.14200536,\n",
       "        0.10639426, 0.13118528, 0.13362833, 0.13146293, 0.12745649,\n",
       "        0.08698382, 0.16128001, 0.15473813, 0.07463125, 0.09502904,\n",
       "        0.07515313, 0.11147852, 0.13057944, 0.10271593, 0.07111193,\n",
       "        0.11465194, 0.13412517, 0.11488331, 0.10269321, 0.09728449,\n",
       "        0.11914552, 0.1456794 , 0.09690361, 0.1250562 , 0.14039033,\n",
       "        0.08251683, 0.09603681, 0.11427565, 0.11875437, 0.18341382,\n",
       "        0.09452636, 0.10057124, 0.10387574, 0.05369718, 0.07906213,\n",
       "        0.14872457, 0.09437389, 0.13264904, 0.08053228, 0.11108811,\n",
       "        0.10619764, 0.08996837, 0.07133796, 0.14349358, 0.08367736,\n",
       "        0.07713196, 0.08429694, 0.10205291, 0.11582855, 0.17450549,\n",
       "        0.10306164, 0.07941303, 0.11700223, 0.09656994, 0.09610312,\n",
       "        0.14431136, 0.11404662, 0.10720866, 0.07886982, 0.10025456,\n",
       "        0.12495148, 0.12605999, 0.14237932, 0.13255875, 0.14110336,\n",
       "        0.0997189 , 0.07505561, 0.10287772, 0.12533043, 0.07949265,\n",
       "        0.05477232, 0.12055171, 0.13110061, 0.13039056, 0.09805034,\n",
       "        0.13777057, 0.07455197, 0.14747563, 0.08526077, 0.09277196,\n",
       "        0.17131709, 0.12022078, 0.0722449 , 0.10624412, 0.07059256,\n",
       "        0.11218421, 0.0667387 , 0.07475524, 0.14490663, 0.09669742,\n",
       "        0.09810908, 0.10264272, 0.11948819, 0.11135932, 0.0939797 ,\n",
       "        0.06259687, 0.13902972, 0.143223  , 0.09716309, 0.09825861,\n",
       "        0.114747  , 0.11297969, 0.0559739 , 0.06448171, 0.07758276,\n",
       "        0.0570887 , 0.11730691, 0.07184101, 0.07926465, 0.06047577,\n",
       "        0.07582291, 0.12454022, 0.1247814 , 0.10240216, 0.13042534,\n",
       "        0.14043273, 0.17597689, 0.09884566, 0.13111904, 0.09518587,\n",
       "        0.09926691, 0.08983648, 0.1017912 , 0.11257345, 0.16043291,\n",
       "        0.15305441, 0.08719577, 0.12379049, 0.12503899, 0.09919478,\n",
       "        0.07069755, 0.11651253, 0.10879839, 0.08349592, 0.18519525,\n",
       "        0.10279092, 0.0592253 , 0.10521594, 0.12005368, 0.08177081,\n",
       "        0.0940907 , 0.06379268, 0.08852572, 0.15064046, 0.13039988,\n",
       "        0.11270677, 0.12305297, 0.12946918, 0.14705679, 0.10232082,\n",
       "        0.11696396, 0.1059877 , 0.14162222, 0.16284475, 0.1267866 ,\n",
       "        0.07739354, 0.12269876, 0.10102736, 0.13185121, 0.12458677,\n",
       "        0.09712758, 0.131667  , 0.09236322, 0.09951395, 0.1073749 ,\n",
       "        0.09907303, 0.14127684, 0.02804666, 0.09104222, 0.12330814,\n",
       "        0.10235931, 0.13633858, 0.11999504, 0.04161822, 0.1450396 ,\n",
       "        0.13076397, 0.11590426, 0.07341534, 0.12222593, 0.12122916,\n",
       "        0.13941   , 0.11770477, 0.11835551, 0.07979677, 0.12680476,\n",
       "        0.0869774 , 0.13060301, 0.14391901, 0.13077713, 0.06942755,\n",
       "        0.05658704, 0.11729547, 0.07778961, 0.10280894, 0.14465266,\n",
       "        0.1032583 , 0.13380828, 0.14801247, 0.08143325, 0.0931253 ,\n",
       "        0.14915749, 0.10144573, 0.10988368, 0.12388398, 0.04029022,\n",
       "        0.12698826, 0.12550407, 0.13403626, 0.16245463, 0.11832082,\n",
       "        0.1066687 , 0.09356347, 0.10806146, 0.13848774, 0.1013389 ,\n",
       "        0.09719725, 0.05874172, 0.05442889, 0.11134298, 0.09604023,\n",
       "        0.1496626 , 0.04428055, 0.06037329, 0.16289488, 0.16735014,\n",
       "        0.08664846, 0.15295225, 0.12809597, 0.09184981, 0.139925  ,\n",
       "        0.13688515, 0.12594334, 0.17422714, 0.07077599, 0.1006454 ,\n",
       "        0.12903679, 0.15443348, 0.09365828, 0.11942923, 0.1575026 ,\n",
       "        0.1109316 , 0.09994322, 0.14626455, 0.12565903, 0.07132479,\n",
       "        0.14346509, 0.06203254, 0.06814635, 0.13980127, 0.12862649,\n",
       "        0.08675129, 0.13576549, 0.06008862, 0.13280435, 0.07582172,\n",
       "        0.0890377 , 0.13776353, 0.09775439, 0.13424012, 0.06989955,\n",
       "        0.11071852, 0.10360541, 0.08622979, 0.12105955, 0.18382173,\n",
       "        0.10963726, 0.09428912, 0.07860512, 0.1357044 , 0.07730258,\n",
       "        0.13820623, 0.11714392, 0.08806901, 0.15935755, 0.12370296,\n",
       "        0.10478111, 0.06411757, 0.10722245, 0.13484386, 0.1605367 ,\n",
       "        0.07832552, 0.05933255, 0.11943025, 0.09857737, 0.08366015,\n",
       "        0.13476783, 0.13966542, 0.12689468, 0.03744595, 0.11862816,\n",
       "        0.0290954 , 0.10482538, 0.08671691, 0.08651125, 0.15864034,\n",
       "        0.09959716, 0.14472581, 0.15747332, 0.06876588, 0.14473922,\n",
       "        0.13543172, 0.04622489, 0.10266191, 0.14776534, 0.10249988,\n",
       "        0.12233962, 0.096739  , 0.08834973, 0.15790473, 0.07329258,\n",
       "        0.08707937, 0.10221955, 0.12898402, 0.13239786, 0.09795008,\n",
       "        0.10577433, 0.1601117 , 0.09754073, 0.11314749, 0.1790087 ,\n",
       "        0.10178825, 0.15140671, 0.1288369 , 0.05745783, 0.07942642,\n",
       "        0.08323516, 0.13852509, 0.07157876, 0.06987714, 0.08180196,\n",
       "        0.10199214, 0.11251912, 0.09416447, 0.08236399, 0.10488768,\n",
       "        0.12117994, 0.03821728, 0.16666606, 0.15665267, 0.11351658,\n",
       "        0.17060887, 0.12143112, 0.06224481, 0.13386855, 0.09209077,\n",
       "        0.12403762, 0.10516697, 0.11223591, 0.16423982, 0.05947982,\n",
       "        0.17032355, 0.07661537, 0.11250291, 0.10699142, 0.12069881,\n",
       "        0.10112659, 0.12316859, 0.06182468, 0.1244036 , 0.1146159 ,\n",
       "        0.11354632, 0.12342844, 0.10089394, 0.20123571, 0.12027009,\n",
       "        0.09024601, 0.13263881, 0.14503063, 0.07279299, 0.07313237,\n",
       "        0.15137835, 0.1071144 , 0.14452626, 0.14702314, 0.04630034,\n",
       "        0.10733577, 0.15635827, 0.11518681, 0.12080122, 0.07165107,\n",
       "        0.06017563, 0.10670056, 0.11211013, 0.11364886, 0.1273789 ,\n",
       "        0.15691578, 0.12017497, 0.14047939, 0.16491496, 0.1104222 ,\n",
       "        0.11120866, 0.1522859 , 0.1089725 , 0.11175926, 0.14555951,\n",
       "        0.15995142, 0.08847446, 0.08431927, 0.10009839, 0.10672266,\n",
       "        0.11355639, 0.12685188, 0.12879221, 0.07228501, 0.09668181,\n",
       "        0.130542  , 0.13275954, 0.11016112, 0.14835735, 0.13960207,\n",
       "        0.0867277 , 0.14244353, 0.09838678, 0.17109753, 0.12623454,\n",
       "        0.11274869, 0.07643136, 0.1442362 , 0.14893496, 0.10950134,\n",
       "        0.08554971, 0.12151349, 0.11184994, 0.11094348, 0.11331159,\n",
       "        0.07984232, 0.17927364, 0.18918378, 0.12708899, 0.13514624,\n",
       "        0.09552323, 0.08238328, 0.0598953 , 0.09498754, 0.04204579,\n",
       "        0.15695718, 0.1566361 , 0.08429934, 0.09719215, 0.14561357,\n",
       "        0.15456263, 0.12044265, 0.10834815, 0.10017397, 0.05749777,\n",
       "        0.13961906, 0.06372443, 0.10544712, 0.06539849, 0.07666539,\n",
       "        0.08759408, 0.1187626 , 0.12403671, 0.0887261 , 0.13814299,\n",
       "        0.1049861 , 0.09954816, 0.11758455, 0.09478562, 0.18511645,\n",
       "        0.14886733, 0.07445853, 0.11047824, 0.05830335, 0.09074962,\n",
       "        0.14051447, 0.09547388, 0.17646438, 0.09653405, 0.18240824,\n",
       "        0.10636107, 0.14666922, 0.0980807 , 0.12152786, 0.12179352,\n",
       "        0.14822853, 0.14353485, 0.16919326, 0.13107385, 0.07582131,\n",
       "        0.0649819 , 0.13532713, 0.13982051, 0.09462755, 0.1004867 ,\n",
       "        0.12052617, 0.15811036, 0.04734879, 0.10326719, 0.12592985,\n",
       "        0.11427018, 0.09803692, 0.14431879, 0.08250514, 0.109516  ,\n",
       "        0.07286331, 0.10762901, 0.11728905, 0.2042902 , 0.08963743,\n",
       "        0.15206247, 0.10947149, 0.13578934, 0.11109138, 0.07166559,\n",
       "        0.08606652, 0.13918695, 0.12889229, 0.14641725, 0.17937479,\n",
       "        0.10151931, 0.16985365, 0.10466466, 0.05660392, 0.18019468,\n",
       "        0.14574949, 0.12855911, 0.16893386, 0.04896026, 0.19289871,\n",
       "        0.14741746, 0.09676782, 0.12245311, 0.09454336, 0.13173281,\n",
       "        0.12460553, 0.13384155, 0.11993668, 0.15134264, 0.12292063,\n",
       "        0.09331579, 0.129837  , 0.16377509, 0.11473006, 0.11208091,\n",
       "        0.11165295, 0.15099391, 0.10459734, 0.13815943, 0.11027796,\n",
       "        0.13970334, 0.12825867, 0.13956841, 0.16516549, 0.13832214,\n",
       "        0.09685156, 0.18043639, 0.10419449, 0.07927482, 0.1229947 ,\n",
       "        0.13663686, 0.10345816, 0.16290549, 0.12037669, 0.14585006,\n",
       "        0.13905546, 0.08587056, 0.08084527, 0.12279841, 0.10004021,\n",
       "        0.13598313, 0.1284447 , 0.06639468, 0.12928079, 0.12077233,\n",
       "        0.12670232, 0.11211539, 0.05602211, 0.1755456 , 0.12333817,\n",
       "        0.0711527 , 0.08323957, 0.12907392, 0.12762286, 0.08989667,\n",
       "        0.1506225 , 0.10225311, 0.19037363, 0.10820981, 0.15000626,\n",
       "        0.07558569, 0.13368169, 0.13978755, 0.13061107, 0.0684667 ,\n",
       "        0.09657597, 0.06561544, 0.15886165, 0.11819682, 0.09569045,\n",
       "        0.15039748, 0.11072597, 0.04327179, 0.08468649, 0.16384656,\n",
       "        0.10375603, 0.08180701, 0.11941534, 0.12924171, 0.14025287,\n",
       "        0.1302164 , 0.15501849, 0.11623048, 0.1601267 , 0.13142915,\n",
       "        0.15518618, 0.11886299, 0.10733873, 0.10050836, 0.10630785,\n",
       "        0.06818812, 0.07374948, 0.14435447, 0.11699453, 0.13650781,\n",
       "        0.14795172, 0.14374755, 0.1023482 , 0.08881199, 0.07956782,\n",
       "        0.04159543, 0.11027823, 0.12980896, 0.1502411 , 0.12350672,\n",
       "        0.11165393, 0.13374349, 0.06992343, 0.09163107, 0.13608812,\n",
       "        0.13735635, 0.11850437, 0.07723423, 0.1238709 , 0.15603077,\n",
       "        0.11083238, 0.10388218, 0.1324118 , 0.10931235, 0.11188601,\n",
       "        0.11711966, 0.0489067 , 0.09882926, 0.08576959, 0.07273094,\n",
       "        0.07811734, 0.07847509, 0.08000808, 0.10071038, 0.06395782,\n",
       "        0.13385219, 0.09697762, 0.08338646, 0.06714595, 0.14393997,\n",
       "        0.11323206, 0.12688567, 0.10840806, 0.1657289 , 0.1220325 ,\n",
       "        0.15384274, 0.08463406, 0.0791022 , 0.09434028, 0.10584619,\n",
       "        0.11467593, 0.08075563, 0.07967987, 0.12864674, 0.1115285 ,\n",
       "        0.11312349, 0.14161032, 0.07325336, 0.18350221, 0.11175952,\n",
       "        0.12184854, 0.10720257, 0.0984796 , 0.11379051, 0.08911116,\n",
       "        0.13833693, 0.10268621, 0.08920176, 0.10681951, 0.08758995,\n",
       "        0.14004902, 0.07183891, 0.10638057, 0.14804788, 0.11385166,\n",
       "        0.13783347, 0.08699783, 0.09031721, 0.09615996, 0.0801557 ,\n",
       "        0.12166543, 0.13823995, 0.13950819, 0.08733777, 0.12198226,\n",
       "        0.1376084 , 0.10218786, 0.11832872, 0.09510548, 0.14888927,\n",
       "        0.11244415, 0.05617327, 0.10161091, 0.08597647, 0.08475471,\n",
       "        0.15427981, 0.12638089, 0.08554395, 0.0737719 , 0.14551178,\n",
       "        0.08160754, 0.18385795, 0.11221024, 0.08875806, 0.09640044,\n",
       "        0.09012251, 0.1116823 , 0.12145813, 0.13302532, 0.12982653,\n",
       "        0.11275568, 0.13320558, 0.10693613, 0.12609264, 0.12112724,\n",
       "        0.08020745, 0.07974842, 0.11971219, 0.05371443, 0.09330405,\n",
       "        0.12026348, 0.09778291, 0.07486289, 0.17515254, 0.11239634,\n",
       "        0.09656799, 0.10730965, 0.08956714, 0.14192213, 0.08304999,\n",
       "        0.09629057, 0.06579618, 0.10984514, 0.1145519 , 0.0859146 ,\n",
       "        0.11687204, 0.12558886, 0.13097688, 0.1726164 , 0.13834292,\n",
       "        0.08304728, 0.08799633, 0.10779033, 0.10615121, 0.08329663,\n",
       "        0.11399319, 0.14939097, 0.11369518, 0.03954447, 0.12649801,\n",
       "        0.08648036, 0.11789602, 0.1151365 , 0.12024103, 0.11586662,\n",
       "        0.08783857, 0.06790567, 0.05378051, 0.14534221, 0.13655219,\n",
       "        0.03396223, 0.11099257, 0.14995463, 0.07144254, 0.10437304,\n",
       "        0.11621802, 0.1504614 , 0.17150615, 0.1093138 , 0.10801803,\n",
       "        0.12411008, 0.1122695 , 0.07634726, 0.07281983, 0.10591431,\n",
       "        0.06800072, 0.13123264, 0.10161844, 0.09994135, 0.18516152,\n",
       "        0.07947044, 0.10127578, 0.10873742, 0.11481079, 0.11854268,\n",
       "        0.06225477, 0.11681782, 0.06906894, 0.13732385, 0.11253105,\n",
       "        0.12018673, 0.06388532, 0.07730401, 0.09916857, 0.09473024,\n",
       "        0.12569036, 0.1048317 , 0.12005722, 0.11694463, 0.10764486,\n",
       "        0.10216535, 0.08957896, 0.09918148, 0.04979748, 0.13340583,\n",
       "        0.11415078, 0.0834323 , 0.08109058, 0.12256723, 0.08635606,\n",
       "        0.06851618, 0.08715871, 0.11673419, 0.14289252, 0.07203366,\n",
       "        0.11339464, 0.10966281, 0.08922742, 0.18927133, 0.10796373,\n",
       "        0.1353515 , 0.07912823, 0.05017228, 0.13547751, 0.15951034,\n",
       "        0.10540661, 0.07788481, 0.09845333, 0.12010887, 0.0915766 ]),\n",
       " array([0.19506521, 0.15577736, 0.18334687, 0.15633464, 0.15654861,\n",
       "        0.17354895, 0.20032684, 0.17735069, 0.20842522, 0.17119524,\n",
       "        0.15702616, 0.16607395, 0.18967271, 0.17289721, 0.15852676,\n",
       "        0.15759454, 0.17947436, 0.17076444, 0.15957644, 0.15524864,\n",
       "        0.15586379, 0.18224701, 0.15539811, 0.1680134 , 0.16410068,\n",
       "        0.16216071, 0.1708982 , 0.21111272, 0.15639499, 0.18927456,\n",
       "        0.15596168, 0.15580889, 0.16302006, 0.15520046, 0.17191432,\n",
       "        0.15789278, 0.19868026, 0.21153724, 0.15116397, 0.16731574,\n",
       "        0.17278422, 0.23455525, 0.16749626, 0.2106544 , 0.18565507,\n",
       "        0.15610761, 0.15054362, 0.16187907, 0.18004835, 0.20354971,\n",
       "        0.17451281, 0.17278513, 0.15535691, 0.18434505, 0.16980881,\n",
       "        0.17633727, 0.19486976, 0.15083343, 0.24808956, 0.19962982,\n",
       "        0.15388132, 0.15291895, 0.19178752, 0.15205906, 0.15859365,\n",
       "        0.18753106, 0.17272684, 0.17514103, 0.15763293, 0.15107336,\n",
       "        0.18502639, 0.1925223 , 0.1876075 , 0.17566543, 0.1621394 ,\n",
       "        0.16680468, 0.16193083, 0.18102817, 0.15321119, 0.16480736,\n",
       "        0.1538725 , 0.17583879, 0.16204997, 0.15352655, 0.1650137 ,\n",
       "        0.16232126, 0.1521469 , 0.20016282, 0.15607159, 0.22439948,\n",
       "        0.21167271, 0.17770793, 0.27349259, 0.1829642 , 0.16003115,\n",
       "        0.18326819, 0.17818325, 0.15889792, 0.16349311, 0.15600505,\n",
       "        0.1933385 , 0.19323693, 0.16750219, 0.1678075 , 0.15852139,\n",
       "        0.18279525, 0.1611883 , 0.20853086, 0.19797106, 0.16568262,\n",
       "        0.17555128, 0.16921357, 0.1832431 , 0.16828104, 0.15348299,\n",
       "        0.15717429, 0.20178344, 0.16958383, 0.19431485, 0.20543515,\n",
       "        0.17406683, 0.20347163, 0.1833822 , 0.2234434 , 0.16488903,\n",
       "        0.17767557, 0.15397524, 0.16686639, 0.17835288, 0.1953649 ,\n",
       "        0.17156396, 0.18989208, 0.22627447, 0.1576538 , 0.15743971,\n",
       "        0.15075698, 0.17119119, 0.19428165, 0.15661402, 0.2014175 ,\n",
       "        0.15140965, 0.17791368, 0.22672351, 0.18672675, 0.16816281,\n",
       "        0.18784844, 0.1711764 , 0.16395068, 0.16909993, 0.17809526,\n",
       "        0.23518749, 0.1637096 , 0.15479975, 0.1540201 , 0.20050594,\n",
       "        0.15315922, 0.17784027, 0.19443797, 0.182031  , 0.1656891 ,\n",
       "        0.18708534, 0.20335103, 0.18618295, 0.1729131 , 0.15435816,\n",
       "        0.15480293, 0.16908898, 0.19435722, 0.16236349, 0.15352372,\n",
       "        0.19808593, 0.19077544, 0.16594872, 0.15151642, 0.16465448,\n",
       "        0.15786706, 0.18848623, 0.15084007, 0.16677246, 0.2059043 ,\n",
       "        0.17007152, 0.155159  , 0.15895351, 0.16926426, 0.23200037,\n",
       "        0.1600699 , 0.15619883, 0.15273202, 0.17476416, 0.15942954,\n",
       "        0.18064433, 0.17902009, 0.17452663, 0.15086247, 0.17328187,\n",
       "        0.15270377, 0.15177816, 0.15307764, 0.17895217, 0.18956005,\n",
       "        0.17532014, 0.16260224, 0.15350921, 0.16566926, 0.21725356,\n",
       "        0.1514859 , 0.1527104 , 0.16783959, 0.15472184, 0.15920996,\n",
       "        0.2042393 , 0.1973776 , 0.17741401, 0.16337921, 0.16543629,\n",
       "        0.16127895, 0.16567013, 0.18530376, 0.19936928, 0.20832684,\n",
       "        0.15362134, 0.1644519 , 0.15144993, 0.16219492, 0.18406625,\n",
       "        0.17920065, 0.17347517, 0.19449146, 0.1661379 , 0.17313172,\n",
       "        0.17062836, 0.15965199, 0.21452463, 0.1500047 , 0.16875858,\n",
       "        0.20975691, 0.19951071, 0.15414402, 0.17228868, 0.15439765,\n",
       "        0.1677282 , 0.1548544 , 0.15419161, 0.21746301, 0.16620723,\n",
       "        0.15108769, 0.15637927, 0.20110233, 0.1550779 , 0.16928452,\n",
       "        0.17026174, 0.17153505, 0.17497181, 0.16090894, 0.15125686,\n",
       "        0.15561522, 0.15891754, 0.16190972, 0.16891909, 0.15123904,\n",
       "        0.16375634, 0.16963949, 0.15534439, 0.15379937, 0.16129477,\n",
       "        0.15186068, 0.16178582, 0.17115823, 0.17621357, 0.19332797,\n",
       "        0.21538918, 0.23074755, 0.15561597, 0.1711818 , 0.16331264,\n",
       "        0.15351557, 0.16595867, 0.15139169, 0.17445653, 0.19318967,\n",
       "        0.18616813, 0.14978408, 0.17311395, 0.16670506, 0.15099063,\n",
       "        0.17870469, 0.1586574 , 0.18143814, 0.16422744, 0.23661699,\n",
       "        0.17149556, 0.17753547, 0.16159135, 0.16627693, 0.16147457,\n",
       "        0.15596737, 0.15626226, 0.15579318, 0.21320523, 0.16540494,\n",
       "        0.15612269, 0.18705866, 0.16427479, 0.17833265, 0.16185002,\n",
       "        0.15682593, 0.15348484, 0.1988043 , 0.21106865, 0.16936778,\n",
       "        0.15123147, 0.19747458, 0.16315653, 0.20213668, 0.1688779 ,\n",
       "        0.15361916, 0.16776244, 0.17931723, 0.15143288, 0.1592774 ,\n",
       "        0.15918993, 0.19083899, 0.21638421, 0.15777523, 0.20044578,\n",
       "        0.15725874, 0.21287935, 0.18345476, 0.19073234, 0.19132991,\n",
       "        0.16528986, 0.18168008, 0.15249048, 0.16456709, 0.18849407,\n",
       "        0.18354597, 0.18136547, 0.18133105, 0.15849124, 0.16233359,\n",
       "        0.15481498, 0.16488301, 0.17552566, 0.16597768, 0.15389017,\n",
       "        0.16209181, 0.18534386, 0.17691528, 0.18395339, 0.21454316,\n",
       "        0.16900541, 0.1672785 , 0.19289908, 0.15442369, 0.16049036,\n",
       "        0.1812685 , 0.18770924, 0.15608555, 0.16313181, 0.18801349,\n",
       "        0.1696364 , 0.18689165, 0.17268352, 0.2053129 , 0.16092055,\n",
       "        0.15381312, 0.15539116, 0.15851048, 0.19068656, 0.17006342,\n",
       "        0.17181197, 0.16540138, 0.16627785, 0.16123542, 0.16948641,\n",
       "        0.18197354, 0.19758303, 0.16156448, 0.20164851, 0.20310159,\n",
       "        0.15870461, 0.18460676, 0.1658474 , 0.17338578, 0.19738539,\n",
       "        0.1799106 , 0.16322417, 0.24104839, 0.15712761, 0.15131971,\n",
       "        0.16381585, 0.1858844 , 0.15309147, 0.16036105, 0.19543952,\n",
       "        0.16718743, 0.16766751, 0.21400686, 0.2031645 , 0.16504101,\n",
       "        0.20426096, 0.18608883, 0.15448599, 0.18774677, 0.17671823,\n",
       "        0.18201464, 0.18511045, 0.1746561 , 0.1785903 , 0.15176461,\n",
       "        0.18651863, 0.17245013, 0.15927932, 0.20400875, 0.16542492,\n",
       "        0.15503877, 0.18522115, 0.16003617, 0.16504009, 0.23307634,\n",
       "        0.15861929, 0.16601245, 0.17499055, 0.19980882, 0.16325088,\n",
       "        0.17132526, 0.15673983, 0.16575338, 0.20340493, 0.16553287,\n",
       "        0.17153331, 0.16052712, 0.17750714, 0.1692342 , 0.19906818,\n",
       "        0.1531413 , 0.15924941, 0.16413815, 0.15429962, 0.1529439 ,\n",
       "        0.17530815, 0.17322424, 0.16353925, 0.21466358, 0.1632317 ,\n",
       "        0.22015389, 0.17777912, 0.15092945, 0.18632292, 0.19428213,\n",
       "        0.15879524, 0.18529023, 0.19698057, 0.15384736, 0.19696744,\n",
       "        0.16883248, 0.19459229, 0.15406504, 0.2242219 , 0.15851844,\n",
       "        0.15986837, 0.15258103, 0.15467193, 0.19368752, 0.15280829,\n",
       "        0.15029337, 0.16534765, 0.16789735, 0.20799614, 0.16353307,\n",
       "        0.1637028 , 0.19471567, 0.16416899, 0.17121423, 0.22578594,\n",
       "        0.15193417, 0.18437373, 0.16965089, 0.16220887, 0.18500777,\n",
       "        0.15341463, 0.17873973, 0.15372347, 0.15434016, 0.15126311,\n",
       "        0.15201886, 0.15478719, 0.14997058, 0.17192046, 0.17886132,\n",
       "        0.16121289, 0.1919648 , 0.22457974, 0.18876842, 0.17661308,\n",
       "        0.23399754, 0.16878862, 0.18529078, 0.20101158, 0.18947387,\n",
       "        0.20035266, 0.17231556, 0.1766807 , 0.20478713, 0.16065238,\n",
       "        0.21299874, 0.1515004 , 0.16630637, 0.15712227, 0.16983991,\n",
       "        0.17835873, 0.16340936, 0.19604765, 0.17766045, 0.15810038,\n",
       "        0.15572565, 0.19510822, 0.18018121, 0.2674559 , 0.1650064 ,\n",
       "        0.15692859, 0.16635576, 0.19715058, 0.15938244, 0.1610185 ,\n",
       "        0.18253023, 0.19502473, 0.18184275, 0.19624591, 0.17738372,\n",
       "        0.18644954, 0.23125467, 0.19905577, 0.18538085, 0.15279677,\n",
       "        0.1855282 , 0.15443134, 0.16159785, 0.17611276, 0.18936601,\n",
       "        0.19054501, 0.15920677, 0.20380078, 0.22045657, 0.15420436,\n",
       "        0.16518896, 0.1834417 , 0.1607817 , 0.17527232, 0.18228664,\n",
       "        0.19579547, 0.16543741, 0.15441317, 0.15389799, 0.15263153,\n",
       "        0.18266005, 0.17180954, 0.17358909, 0.20053394, 0.15675252,\n",
       "        0.16875225, 0.18322691, 0.15577926, 0.18304353, 0.18318844,\n",
       "        0.15318183, 0.18110076, 0.15251787, 0.21029388, 0.16419425,\n",
       "        0.16872006, 0.16706173, 0.1829261 , 0.18336595, 0.17822916,\n",
       "        0.188843  , 0.1980942 , 0.15450868, 0.15516483, 0.17491512,\n",
       "        0.19376582, 0.23383755, 0.25883748, 0.16641438, 0.16943588,\n",
       "        0.15168449, 0.15063845, 0.1581578 , 0.17274116, 0.20554209,\n",
       "        0.20279103, 0.20699404, 0.15803931, 0.1519735 , 0.18061278,\n",
       "        0.19176278, 0.1605025 , 0.20238476, 0.1564019 , 0.16382788,\n",
       "        0.18766745, 0.17820062, 0.15415098, 0.1624991 , 0.15134766,\n",
       "        0.15884431, 0.18793634, 0.16173403, 0.19098957, 0.1754194 ,\n",
       "        0.15278155, 0.19220927, 0.15879752, 0.15005092, 0.23934942,\n",
       "        0.2242179 , 0.16469373, 0.16176805, 0.1596125 , 0.15535475,\n",
       "        0.21226991, 0.15389312, 0.22624433, 0.17280093, 0.2331899 ,\n",
       "        0.16140681, 0.20711286, 0.15044213, 0.15907956, 0.1761105 ,\n",
       "        0.21561709, 0.17653808, 0.21395016, 0.16865801, 0.15154414,\n",
       "        0.15596956, 0.18118974, 0.18987661, 0.16748764, 0.16830886,\n",
       "        0.18124271, 0.20333052, 0.20559261, 0.15167588, 0.16617858,\n",
       "        0.17445537, 0.15082149, 0.20954155, 0.15021388, 0.15568231,\n",
       "        0.16891462, 0.1638056 , 0.16177783, 0.27432375, 0.14995858,\n",
       "        0.19231097, 0.17279275, 0.17075049, 0.16763149, 0.18778723,\n",
       "        0.14986071, 0.17430603, 0.19999137, 0.17913157, 0.22523649,\n",
       "        0.15706268, 0.21759868, 0.19799931, 0.18647254, 0.2247355 ,\n",
       "        0.18161858, 0.17890646, 0.21996725, 0.19309383, 0.24884878,\n",
       "        0.18210932, 0.15787937, 0.16376139, 0.17774209, 0.16682418,\n",
       "        0.17160704, 0.17219836, 0.16877164, 0.19490726, 0.15988368,\n",
       "        0.18413206, 0.16458053, 0.2099407 , 0.19143381, 0.17916327,\n",
       "        0.17694279, 0.1883775 , 0.1771406 , 0.17127516, 0.16878942,\n",
       "        0.18850425, 0.16805876, 0.18544932, 0.21093345, 0.17304674,\n",
       "        0.16260579, 0.23221655, 0.15239652, 0.15740435, 0.16537746,\n",
       "        0.17035094, 0.15505418, 0.19775884, 0.20363632, 0.17740219,\n",
       "        0.21164272, 0.15571058, 0.15331718, 0.16263292, 0.18825443,\n",
       "        0.18654508, 0.18337921, 0.15562157, 0.18437534, 0.15903906,\n",
       "        0.16253487, 0.17444934, 0.16915019, 0.22332004, 0.19119702,\n",
       "        0.15366245, 0.19288026, 0.20638538, 0.18568488, 0.15962437,\n",
       "        0.21524428, 0.15468079, 0.24218402, 0.17388467, 0.19700333,\n",
       "        0.16075928, 0.17516307, 0.21086171, 0.17207555, 0.15532233,\n",
       "        0.17965226, 0.19151694, 0.19432981, 0.15728631, 0.15737832,\n",
       "        0.18211276, 0.15449332, 0.18311989, 0.15098816, 0.22087172,\n",
       "        0.1936788 , 0.15457234, 0.16109255, 0.17214763, 0.21217169,\n",
       "        0.20898698, 0.19045817, 0.16882197, 0.21157335, 0.17951766,\n",
       "        0.20149835, 0.17075854, 0.17674671, 0.1866348 , 0.16748283,\n",
       "        0.15458714, 0.20018405, 0.18015201, 0.1656547 , 0.17711107,\n",
       "        0.18076565, 0.2097462 , 0.16007615, 0.15256627, 0.15125569,\n",
       "        0.19715585, 0.17570985, 0.1911837 , 0.21712239, 0.20238085,\n",
       "        0.15527135, 0.16788198, 0.1625025 , 0.15112181, 0.17007417,\n",
       "        0.21099703, 0.1883893 , 0.17442769, 0.17462374, 0.21969895,\n",
       "        0.15662068, 0.15178231, 0.20557011, 0.15874295, 0.15672349,\n",
       "        0.16694906, 0.17180608, 0.16268297, 0.15992282, 0.17633985,\n",
       "        0.1512289 , 0.15264719, 0.18036741, 0.18252093, 0.17928698,\n",
       "        0.20747852, 0.16656417, 0.15100486, 0.15543088, 0.17555964,\n",
       "        0.18381338, 0.17161048, 0.16992386, 0.20744296, 0.1860004 ,\n",
       "        0.22044274, 0.15190873, 0.15448059, 0.15217131, 0.16077744,\n",
       "        0.16393981, 0.17280127, 0.15585036, 0.16797813, 0.15505589,\n",
       "        0.15581461, 0.19444016, 0.19444894, 0.24992063, 0.15706982,\n",
       "        0.16570066, 0.1533024 , 0.17068055, 0.16576683, 0.15113544,\n",
       "        0.17298317, 0.15222298, 0.15294202, 0.1529188 , 0.15459602,\n",
       "        0.19756623, 0.15347674, 0.15762424, 0.17951047, 0.16239951,\n",
       "        0.17420372, 0.19562937, 0.16902096, 0.15129936, 0.15358847,\n",
       "        0.19517773, 0.18956393, 0.17963288, 0.1729129 , 0.16642771,\n",
       "        0.18615503, 0.15206127, 0.15766976, 0.1531066 , 0.21521256,\n",
       "        0.18253167, 0.20110036, 0.16003441, 0.15220772, 0.16952326,\n",
       "        0.18635179, 0.16342416, 0.14990657, 0.18222906, 0.19011539,\n",
       "        0.15283668, 0.24083324, 0.18785202, 0.17083226, 0.1807311 ,\n",
       "        0.18857639, 0.16071056, 0.16120244, 0.16690338, 0.16641297,\n",
       "        0.17626558, 0.17587953, 0.1551681 , 0.16245167, 0.20355648,\n",
       "        0.17192728, 0.17005911, 0.16524488, 0.17014423, 0.15446709,\n",
       "        0.17750981, 0.16344635, 0.1567043 , 0.23352048, 0.1689909 ,\n",
       "        0.17630991, 0.16451733, 0.15028595, 0.17611486, 0.15025026,\n",
       "        0.15122369, 0.15531447, 0.16378193, 0.15895058, 0.15412855,\n",
       "        0.16877015, 0.180155  , 0.17996357, 0.21112085, 0.17079241,\n",
       "        0.15377099, 0.17170129, 0.17751635, 0.17342637, 0.17854387,\n",
       "        0.15605379, 0.18416449, 0.16537604, 0.19063675, 0.1792817 ,\n",
       "        0.16646999, 0.16110826, 0.15811903, 0.16563283, 0.18778451,\n",
       "        0.15028235, 0.18264886, 0.16789321, 0.20138075, 0.16970885,\n",
       "        0.19990752, 0.18075673, 0.18243161, 0.15322443, 0.16249915,\n",
       "        0.17994246, 0.18521398, 0.23334025, 0.15965807, 0.15653755,\n",
       "        0.20456729, 0.18150666, 0.15140994, 0.15678238, 0.16122778,\n",
       "        0.16661157, 0.17576332, 0.15596765, 0.15650747, 0.25401357,\n",
       "        0.15089406, 0.16117082, 0.18365276, 0.15730051, 0.16428948,\n",
       "        0.15960003, 0.1802058 , 0.16528148, 0.17179707, 0.17095057,\n",
       "        0.1858122 , 0.1562416 , 0.15335141, 0.150777  , 0.19488846,\n",
       "        0.19179493, 0.15355016, 0.18065737, 0.15878498, 0.16035249,\n",
       "        0.15591642, 0.15323552, 0.17516291, 0.17969108, 0.1842696 ,\n",
       "        0.16443843, 0.1504291 , 0.15326263, 0.16964123, 0.16469066,\n",
       "        0.16275184, 0.15118497, 0.16381418, 0.18131531, 0.15572033,\n",
       "        0.16011575, 0.15473252, 0.16001695, 0.24749659, 0.16066841,\n",
       "        0.20376299, 0.15518909, 0.17618361, 0.19305724, 0.19679563,\n",
       "        0.15405474, 0.15881441, 0.15375387, 0.17159763, 0.14975557]))"
      ]
     },
     "execution_count": 76,
     "metadata": {},
     "output_type": "execute_result"
    }
   ],
   "source": [
    "#Creating arrays for 1000 combination of assets returns and volatility\n",
    "\n",
    "pfolio_returns =[]\n",
    "pfolio_vol=[]\n",
    "\n",
    "for x in range(1000):\n",
    "    weights = np.random.random(num_assets)\n",
    "    weights /= np.sum(weights)\n",
    "    pfolio_returns.append(np.sum(weights*log_returns.mean())*250)\n",
    "    pfolio_vol.append(np.sqrt(np.dot(weights.T,np.dot(log_returns.cov()*250, weights))))\n",
    "    \n",
    "pfolio_returns = np.array(pfolio_returns)\n",
    "pfolio_vol = np.array(pfolio_vol)\n",
    "\n",
    "pfolio_returns, pfolio_vol"
   ]
  },
  {
   "cell_type": "code",
   "execution_count": 77,
   "metadata": {},
   "outputs": [
    {
     "data": {
      "text/html": [
       "<div>\n",
       "<style scoped>\n",
       "    .dataframe tbody tr th:only-of-type {\n",
       "        vertical-align: middle;\n",
       "    }\n",
       "\n",
       "    .dataframe tbody tr th {\n",
       "        vertical-align: top;\n",
       "    }\n",
       "\n",
       "    .dataframe thead th {\n",
       "        text-align: right;\n",
       "    }\n",
       "</style>\n",
       "<table border=\"1\" class=\"dataframe\">\n",
       "  <thead>\n",
       "    <tr style=\"text-align: right;\">\n",
       "      <th></th>\n",
       "      <th>Return</th>\n",
       "      <th>Volatility</th>\n",
       "    </tr>\n",
       "  </thead>\n",
       "  <tbody>\n",
       "    <tr>\n",
       "      <th>995</th>\n",
       "      <td>0.105407</td>\n",
       "      <td>0.154055</td>\n",
       "    </tr>\n",
       "    <tr>\n",
       "      <th>996</th>\n",
       "      <td>0.077885</td>\n",
       "      <td>0.158814</td>\n",
       "    </tr>\n",
       "    <tr>\n",
       "      <th>997</th>\n",
       "      <td>0.098453</td>\n",
       "      <td>0.153754</td>\n",
       "    </tr>\n",
       "    <tr>\n",
       "      <th>998</th>\n",
       "      <td>0.120109</td>\n",
       "      <td>0.171598</td>\n",
       "    </tr>\n",
       "    <tr>\n",
       "      <th>999</th>\n",
       "      <td>0.091577</td>\n",
       "      <td>0.149756</td>\n",
       "    </tr>\n",
       "  </tbody>\n",
       "</table>\n",
       "</div>"
      ],
      "text/plain": [
       "       Return  Volatility\n",
       "995  0.105407    0.154055\n",
       "996  0.077885    0.158814\n",
       "997  0.098453    0.153754\n",
       "998  0.120109    0.171598\n",
       "999  0.091577    0.149756"
      ]
     },
     "execution_count": 77,
     "metadata": {},
     "output_type": "execute_result"
    }
   ],
   "source": [
    "#Graphing Efficient Fortier Curve - O Lord, Let this be good!\n",
    "portfolio = pd.DataFrame({'Return':pfolio_returns, 'Volatility':pfolio_vol})\n",
    "\n",
    "portfolio.tail(5)"
   ]
  },
  {
   "cell_type": "code",
   "execution_count": 78,
   "metadata": {},
   "outputs": [
    {
     "data": {
      "text/plain": [
       "Text(0, 0.5, 'Return')"
      ]
     },
     "execution_count": 78,
     "metadata": {},
     "output_type": "execute_result"
    },
    {
     "data": {
      "image/png": "[encoded data removed]",
      "text/plain": [
       "<Figure size 720x432 with 1 Axes>"
      ]
     },
     "metadata": {
      "needs_background": "light"
     },
     "output_type": "display_data"
    }
   ],
   "source": [
    "portfolio.plot(x='Volatility', y='Return', kind='scatter', figsize=(10,6));\n",
    "plt.xlabel('Volatility')\n",
    "plt.ylabel('Return')"
   ]
  },
  {
   "cell_type": "code",
   "execution_count": null,
   "metadata": {},
   "outputs": [],
   "source": []
  }
 ],
 "metadata": {
  "kernelspec": {
   "display_name": "Python 3",
   "language": "python",
   "name": "python3"
  },
  "language_info": {
   "codemirror_mode": {
    "name": "ipython",
    "version": 3
   },
   "file_extension": ".py",
   "mimetype": "text/x-python",
   "name": "python",
   "nbconvert_exporter": "python",
   "pygments_lexer": "ipython3",
   "version": "3.7.3"
  }
 },
 "nbformat": 4,
 "nbformat_minor": 2
}
